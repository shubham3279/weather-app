{
 "cells": [
  {
   "cell_type": "code",
   "execution_count": 32,
   "metadata": {},
   "outputs": [],
   "source": [
    "# imports\n",
    "import requests\n",
    "import json\n",
    "import pandas as pd"
   ]
  },
  {
   "cell_type": "code",
   "execution_count": 25,
   "metadata": {},
   "outputs": [
    {
     "name": "stdout",
     "output_type": "stream",
     "text": [
      "<class 'requests.models.Response'>\n",
      "{'count': 1, 'data': [{'app_temp': 37.1, 'aqi': 167, 'city_name': 'Delhi', 'clouds': 100, 'country_code': 'IN', 'datetime': '2024-05-06:12', 'dewpt': 8.7, 'dhi': 35.35, 'dni': 305.77, 'elev_angle': 5.33, 'ghi': 54.67, 'gust': None, 'h_angle': 90, 'lat': 28.65195, 'lon': 77.23149, 'ob_time': '2024-05-06 12:36', 'pod': 'd', 'precip': 0, 'pres': 977.8, 'rh': 16, 'slp': 1003, 'snow': 0, 'solar_rad': 10.9, 'sources': ['VIDP', 'radar', 'satellite'], 'state_code': '07', 'station': 'VIDP', 'sunrise': '00:05', 'sunset': '13:30', 'temp': 39, 'timezone': 'Asia/Kolkata', 'ts': 1714999004, 'uv': 0.63451886, 'vis': 16, 'weather': {'description': 'Haze', 'code': 721, 'icon': 'a03d'}, 'wind_cdir': 'WNW', 'wind_cdir_full': 'west-northwest', 'wind_dir': 290, 'wind_spd': 4.6}]}\n"
     ]
    }
   ],
   "source": [
    "# connecting to API endpoint\n",
    "\n",
    "\n",
    "# city\n",
    "\n",
    "city = 'Delhi'\n",
    "\n",
    "# url of API endpoint\n",
    "base_url = 'http://api.weatherbit.io/v2.0/current'\n",
    "\n",
    "# request parameters\n",
    "\n",
    "\n",
    "params = {\n",
    "    'key': '0a59ad53609f462d909d03598f7f324f',\n",
    "    'lang' : 'en',\n",
    "    'units': 'M',\n",
    "    'city' : city\n",
    "}\n",
    "\n",
    "#  making a GET request\n",
    "response = requests.get(base_url, params = params)\n",
    "\n",
    "# Check the response status code\n",
    "if response.status_code == 200:\n",
    "    # Request was successful, handle the response data\n",
    "    print(type(response))\n",
    "    print(response.json())\n",
    "    \n",
    "else:\n",
    "    # Request failed, handle the error\n",
    "    print(\"Error:\", response.status_code)"
   ]
  },
  {
   "cell_type": "code",
   "execution_count": 26,
   "metadata": {},
   "outputs": [
    {
     "name": "stdout",
     "output_type": "stream",
     "text": [
      "{'count': 1, 'data': [{'app_temp': 37.1, 'aqi': 167, 'city_name': 'Delhi', 'clouds': 100, 'country_code': 'IN', 'datetime': '2024-05-06:12', 'dewpt': 8.7, 'dhi': 35.35, 'dni': 305.77, 'elev_angle': 5.33, 'ghi': 54.67, 'gust': None, 'h_angle': 90, 'lat': 28.65195, 'lon': 77.23149, 'ob_time': '2024-05-06 12:36', 'pod': 'd', 'precip': 0, 'pres': 977.8, 'rh': 16, 'slp': 1003, 'snow': 0, 'solar_rad': 10.9, 'sources': ['VIDP', 'radar', 'satellite'], 'state_code': '07', 'station': 'VIDP', 'sunrise': '00:05', 'sunset': '13:30', 'temp': 39, 'timezone': 'Asia/Kolkata', 'ts': 1714999004, 'uv': 0.63451886, 'vis': 16, 'weather': {'description': 'Haze', 'code': 721, 'icon': 'a03d'}, 'wind_cdir': 'WNW', 'wind_cdir_full': 'west-northwest', 'wind_dir': 290, 'wind_spd': 4.6}]}\n"
     ]
    }
   ],
   "source": [
    "response_data = json.loads(response.text)\n",
    "print(response_data)"
   ]
  },
  {
   "cell_type": "code",
   "execution_count": 27,
   "metadata": {},
   "outputs": [
    {
     "name": "stdout",
     "output_type": "stream",
     "text": [
      "['count', 'data']\n"
     ]
    }
   ],
   "source": [
    "response_keys = [key for key in response_data.keys()]\n",
    "print(response_keys)\n",
    "    "
   ]
  },
  {
   "cell_type": "code",
   "execution_count": 28,
   "metadata": {},
   "outputs": [
    {
     "name": "stdout",
     "output_type": "stream",
     "text": [
      "[{'app_temp': 37.1, 'aqi': 167, 'city_name': 'Delhi', 'clouds': 100, 'country_code': 'IN', 'datetime': '2024-05-06:12', 'dewpt': 8.7, 'dhi': 35.35, 'dni': 305.77, 'elev_angle': 5.33, 'ghi': 54.67, 'gust': None, 'h_angle': 90, 'lat': 28.65195, 'lon': 77.23149, 'ob_time': '2024-05-06 12:36', 'pod': 'd', 'precip': 0, 'pres': 977.8, 'rh': 16, 'slp': 1003, 'snow': 0, 'solar_rad': 10.9, 'sources': ['VIDP', 'radar', 'satellite'], 'state_code': '07', 'station': 'VIDP', 'sunrise': '00:05', 'sunset': '13:30', 'temp': 39, 'timezone': 'Asia/Kolkata', 'ts': 1714999004, 'uv': 0.63451886, 'vis': 16, 'weather': {'description': 'Haze', 'code': 721, 'icon': 'a03d'}, 'wind_cdir': 'WNW', 'wind_cdir_full': 'west-northwest', 'wind_dir': 290, 'wind_spd': 4.6}]\n",
      "{'app_temp': 37.1, 'aqi': 167, 'city_name': 'Delhi', 'clouds': 100, 'country_code': 'IN', 'datetime': '2024-05-06:12', 'dewpt': 8.7, 'dhi': 35.35, 'dni': 305.77, 'elev_angle': 5.33, 'ghi': 54.67, 'gust': None, 'h_angle': 90, 'lat': 28.65195, 'lon': 77.23149, 'ob_time': '2024-05-06 12:36', 'pod': 'd', 'precip': 0, 'pres': 977.8, 'rh': 16, 'slp': 1003, 'snow': 0, 'solar_rad': 10.9, 'sources': ['VIDP', 'radar', 'satellite'], 'state_code': '07', 'station': 'VIDP', 'sunrise': '00:05', 'sunset': '13:30', 'temp': 39, 'timezone': 'Asia/Kolkata', 'ts': 1714999004, 'uv': 0.63451886, 'vis': 16, 'weather': {'description': 'Haze', 'code': 721, 'icon': 'a03d'}, 'wind_cdir': 'WNW', 'wind_cdir_full': 'west-northwest', 'wind_dir': 290, 'wind_spd': 4.6}\n"
     ]
    }
   ],
   "source": [
    "print(response_data['data'])\n",
    "print(response_data['data'][0])"
   ]
  },
  {
   "cell_type": "code",
   "execution_count": 29,
   "metadata": {},
   "outputs": [
    {
     "name": "stdout",
     "output_type": "stream",
     "text": [
      "37.1\n",
      "['app_temp', 'aqi', 'city_name', 'clouds', 'country_code', 'datetime', 'dewpt', 'dhi', 'dni', 'elev_angle', 'ghi', 'gust', 'h_angle', 'lat', 'lon', 'ob_time', 'pod', 'precip', 'pres', 'rh', 'slp', 'snow', 'solar_rad', 'sources', 'state_code', 'station', 'sunrise', 'sunset', 'temp', 'timezone', 'ts', 'uv', 'vis', 'weather', 'wind_cdir', 'wind_cdir_full', 'wind_dir', 'wind_spd']\n"
     ]
    }
   ],
   "source": [
    "print(response_data['data'][0]['app_temp'])\n",
    "internal_keys = [ keys for keys in response_data['data'][0]]\n",
    "print(internal_keys)"
   ]
  },
  {
   "cell_type": "code",
   "execution_count": 37,
   "metadata": {},
   "outputs": [
    {
     "name": "stdout",
     "output_type": "stream",
     "text": [
      "{'app_temp': 37.1, 'aqi': 167, 'city_name': 'Delhi', 'clouds': 100, 'country_code': 'IN', 'ob_time': '2024-05-06 12:36', 'pod': 'd', 'precip': 0, 'pres': 977.8, 'rh': 16, 'temp': 39, 'vis': 16, 'weather': {'description': 'Haze', 'code': 721, 'icon': 'a03d'}, 'wind_cdir_full': 'west-northwest', 'wind_dir': 290, 'wind_spd': 4.6}\n"
     ]
    }
   ],
   "source": [
    "relevant_keys = [\n",
    "    'city_name', 'country_code', 'ob_time', \n",
    "    'pod', #part of the day (d/n)\n",
    "    'temp', # temperature(Celcius)\n",
    "    'app_temp', # Apparent/\"Feels Like\" temperature ( Celsius)\n",
    "    'precip', # Liquid equivalent precipitation rate (default mm/hr).\n",
    "    'rh', #relative humidity\n",
    "    'clouds', # cloud coverage(%)\n",
    "    'aqi', # air quality index\n",
    "    'pres', # pressure(mb)\n",
    "    'wind_spd', #wind speed (m/s)\n",
    "    'wind_dir', # Wind direction (degrees\n",
    "    'wind_cdir_full', # Verbal wind direction\n",
    "    'vis', # visibility (km),\n",
    "    'weather'\n",
    " ]\n",
    "\n",
    "\n",
    "d = {\n",
    "    key:value for key,value in response_data['data'][0].items() \n",
    "    if key in relevant_keys\n",
    "}\n",
    "\n",
    "print(d)\n",
    "\n",
    "\n",
    "\n",
    "\n",
    "\n",
    "\n"
   ]
  },
  {
   "cell_type": "code",
   "execution_count": 40,
   "metadata": {},
   "outputs": [
    {
     "name": "stdout",
     "output_type": "stream",
     "text": [
      "         Parameter                                              Value\n",
      "0         app_temp                                               37.1\n",
      "1              aqi                                                167\n",
      "2        city_name                                              Delhi\n",
      "3           clouds                                                100\n",
      "4     country_code                                                 IN\n",
      "5          ob_time                                   2024-05-06 12:36\n",
      "6              pod                                                  d\n",
      "7           precip                                                  0\n",
      "8             pres                                              977.8\n",
      "9               rh                                                 16\n",
      "10            temp                                                 39\n",
      "11             vis                                                 16\n",
      "12         weather  {'description': 'Haze', 'code': 721, 'icon': '...\n",
      "13  wind_cdir_full                                     west-northwest\n",
      "14        wind_dir                                                290\n",
      "15        wind_spd                                                4.6\n"
     ]
    }
   ],
   "source": [
    "# Create a DataFrame\n",
    "df = pd.DataFrame(d.items(), columns=['Parameter', 'Value'])\n",
    "print(df)"
   ]
  },
  {
   "cell_type": "code",
   "execution_count": 41,
   "metadata": {},
   "outputs": [
    {
     "name": "stdout",
     "output_type": "stream",
     "text": [
      "                         Parameter  \\\n",
      "0   Apparent Temperature (Celsius)   \n",
      "1                Air Quality Index   \n",
      "2                        City Name   \n",
      "3               Cloud Coverage (%)   \n",
      "4                     Country Code   \n",
      "5                 Observation Time   \n",
      "6                  Part of the Day   \n",
      "7       Precipitation Rate (mm/hr)   \n",
      "8                    Pressure (mb)   \n",
      "9                Relative Humidity   \n",
      "10           Temperature (Celsius)   \n",
      "11                 Visibility (km)   \n",
      "12             Weather Description   \n",
      "13           Verbal Wind Direction   \n",
      "14        Wind Direction (degrees)   \n",
      "15                Wind Speed (m/s)   \n",
      "\n",
      "                                                Value  \n",
      "0                                                37.1  \n",
      "1                                                 167  \n",
      "2                                               Delhi  \n",
      "3                                                 100  \n",
      "4                                                  IN  \n",
      "5                                    2024-05-06 12:36  \n",
      "6                                                   d  \n",
      "7                                                   0  \n",
      "8                                               977.8  \n",
      "9                                                  16  \n",
      "10                                                 39  \n",
      "11                                                 16  \n",
      "12  {'description': 'Haze', 'code': 721, 'icon': '...  \n",
      "13                                     west-northwest  \n",
      "14                                                290  \n",
      "15                                                4.6  \n"
     ]
    }
   ],
   "source": [
    "# Rename the \"Parameter\" column\n",
    "column_aliases = {\n",
    "    'city_name': 'City Name',\n",
    "    'country_code': 'Country Code',\n",
    "    'ob_time': 'Observation Time',\n",
    "    'pod': 'Part of the Day',\n",
    "    'temp': 'Temperature (Celsius)',\n",
    "    'app_temp': 'Apparent Temperature (Celsius)',\n",
    "    'precip': 'Precipitation Rate (mm/hr)',\n",
    "    'rh': 'Relative Humidity',\n",
    "    'clouds': 'Cloud Coverage (%)',\n",
    "    'aqi': 'Air Quality Index',\n",
    "    'pres': 'Pressure (mb)',\n",
    "    'wind_spd': 'Wind Speed (m/s)',\n",
    "    'wind_dir': 'Wind Direction (degrees)',\n",
    "    'wind_cdir_full': 'Verbal Wind Direction',\n",
    "    'vis': 'Visibility (km)',\n",
    "    'weather': 'Weather Description'\n",
    "}\n",
    "\n",
    "df['Parameter'] = df['Parameter'].map(column_aliases)\n",
    "print(df)"
   ]
  },
  {
   "cell_type": "code",
   "execution_count": 42,
   "metadata": {},
   "outputs": [
    {
     "name": "stdout",
     "output_type": "stream",
     "text": [
      "                         Parameter  \\\n",
      "2                        City Name   \n",
      "4                     Country Code   \n",
      "5                 Observation Time   \n",
      "6                  Part of the Day   \n",
      "10           Temperature (Celsius)   \n",
      "0   Apparent Temperature (Celsius)   \n",
      "7       Precipitation Rate (mm/hr)   \n",
      "9                Relative Humidity   \n",
      "3               Cloud Coverage (%)   \n",
      "1                Air Quality Index   \n",
      "8                    Pressure (mb)   \n",
      "15                Wind Speed (m/s)   \n",
      "14        Wind Direction (degrees)   \n",
      "13           Verbal Wind Direction   \n",
      "11                 Visibility (km)   \n",
      "12             Weather Description   \n",
      "\n",
      "                                                Value  \n",
      "2                                               Delhi  \n",
      "4                                                  IN  \n",
      "5                                    2024-05-06 12:36  \n",
      "6                                                   d  \n",
      "10                                                 39  \n",
      "0                                                37.1  \n",
      "7                                                   0  \n",
      "9                                                  16  \n",
      "3                                                 100  \n",
      "1                                                 167  \n",
      "8                                               977.8  \n",
      "15                                                4.6  \n",
      "14                                                290  \n",
      "13                                     west-northwest  \n",
      "11                                                 16  \n",
      "12  {'description': 'Haze', 'code': 721, 'icon': '...  \n"
     ]
    }
   ],
   "source": [
    "# Define the order of parameters\n",
    "parameter_order = [\n",
    "    'City Name', 'Country Code', 'Observation Time', 'Part of the Day',\n",
    "    'Temperature (Celsius)', 'Apparent Temperature (Celsius)',\n",
    "    'Precipitation Rate (mm/hr)', 'Relative Humidity',\n",
    "    'Cloud Coverage (%)', 'Air Quality Index', 'Pressure (mb)',\n",
    "    'Wind Speed (m/s)', 'Wind Direction (degrees)',\n",
    "    'Verbal Wind Direction', 'Visibility (km)', 'Weather Description'\n",
    "]\n",
    "\n",
    "# Reorder the DataFrame\n",
    "df['Parameter'] = pd.Categorical(df['Parameter'], categories=parameter_order, ordered=True)\n",
    "df = df.sort_values('Parameter')\n",
    "print(df)"
   ]
  },
  {
   "cell_type": "code",
   "execution_count": null,
   "metadata": {},
   "outputs": [],
   "source": []
  }
 ],
 "metadata": {
  "kernelspec": {
   "display_name": "Python 3",
   "language": "python",
   "name": "python3"
  },
  "language_info": {
   "codemirror_mode": {
    "name": "ipython",
    "version": 3
   },
   "file_extension": ".py",
   "mimetype": "text/x-python",
   "name": "python",
   "nbconvert_exporter": "python",
   "pygments_lexer": "ipython3",
   "version": "3.12.3"
  }
 },
 "nbformat": 4,
 "nbformat_minor": 2
}
